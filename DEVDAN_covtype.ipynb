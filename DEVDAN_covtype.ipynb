{
 "cells": [
  {
   "cell_type": "code",
   "execution_count": null,
   "metadata": {},
   "outputs": [],
   "source": [
    "from DEVDANmainloop import DEVDANmain, DEVDANmainID\n",
    "from DEVDANbasic import DEVDAN\n",
    "from utilsDEVDAN import dataLoader, plotPerformance\n",
    "import random\n",
    "import numpy as np\n",
    "import torch"
   ]
  },
  {
   "cell_type": "code",
   "execution_count": null,
   "metadata": {},
   "outputs": [],
   "source": []
  },
  {
   "cell_type": "code",
   "execution_count": null,
   "metadata": {},
   "outputs": [],
   "source": [
    "# random seed control\n",
    "np.random.seed(0)\n",
    "torch.manual_seed(0)\n",
    "random.seed(0)"
   ]
  },
  {
   "cell_type": "code",
   "execution_count": null,
   "metadata": {},
   "outputs": [],
   "source": []
  },
  {
   "cell_type": "code",
   "execution_count": null,
   "metadata": {},
   "outputs": [],
   "source": [
    "# load data\n",
    "dataStreams = dataLoader('../dataset/covtype2.mat')"
   ]
  },
  {
   "cell_type": "code",
   "execution_count": null,
   "metadata": {},
   "outputs": [],
   "source": []
  },
  {
   "cell_type": "code",
   "execution_count": null,
   "metadata": {},
   "outputs": [],
   "source": [
    "print('All Data')"
   ]
  },
  {
   "cell_type": "code",
   "execution_count": null,
   "metadata": {},
   "outputs": [],
   "source": [
    "# initialization\n",
    "DevdanNet = DEVDAN(dataStreams.nInput,dataStreams.nOutput)"
   ]
  },
  {
   "cell_type": "code",
   "execution_count": null,
   "metadata": {},
   "outputs": [],
   "source": [
    "DevdanNet0, performanceHistory0 = DEVDANmain(DevdanNet,dataStreams)"
   ]
  },
  {
   "cell_type": "code",
   "execution_count": null,
   "metadata": {},
   "outputs": [],
   "source": [
    "plotPerformance(performanceHistory0[0],performanceHistory0[1],performanceHistory0[2],\n",
    "                performanceHistory0[3],performanceHistory0[4])"
   ]
  },
  {
   "cell_type": "code",
   "execution_count": null,
   "metadata": {},
   "outputs": [],
   "source": []
  },
  {
   "cell_type": "code",
   "execution_count": null,
   "metadata": {},
   "outputs": [],
   "source": [
    "# initialization\n",
    "DevdanNet = DEVDAN(dataStreams.nInput,dataStreams.nOutput)"
   ]
  },
  {
   "cell_type": "code",
   "execution_count": null,
   "metadata": {
    "scrolled": true
   },
   "outputs": [],
   "source": [
    "DevdanNet1, performanceHistory1 = DEVDANmain(DevdanNet,dataStreams)"
   ]
  },
  {
   "cell_type": "code",
   "execution_count": null,
   "metadata": {
    "scrolled": true
   },
   "outputs": [],
   "source": [
    "plotPerformance(performanceHistory1[0],performanceHistory1[1],performanceHistory1[2],\n",
    "                performanceHistory1[3],performanceHistory1[4])"
   ]
  },
  {
   "cell_type": "code",
   "execution_count": null,
   "metadata": {},
   "outputs": [],
   "source": []
  },
  {
   "cell_type": "code",
   "execution_count": null,
   "metadata": {},
   "outputs": [],
   "source": [
    "# initialization\n",
    "DevdanNet = DEVDAN(dataStreams.nInput,dataStreams.nOutput)"
   ]
  },
  {
   "cell_type": "code",
   "execution_count": null,
   "metadata": {
    "scrolled": true
   },
   "outputs": [],
   "source": [
    "DevdanNet2, performanceHistory2 = DEVDANmain(DevdanNet,dataStreams)"
   ]
  },
  {
   "cell_type": "code",
   "execution_count": null,
   "metadata": {
    "scrolled": true
   },
   "outputs": [],
   "source": [
    "plotPerformance(performanceHistory2[0],performanceHistory2[1],performanceHistory2[2],\n",
    "                performanceHistory2[3],performanceHistory2[4])"
   ]
  },
  {
   "cell_type": "code",
   "execution_count": null,
   "metadata": {},
   "outputs": [],
   "source": []
  },
  {
   "cell_type": "code",
   "execution_count": null,
   "metadata": {},
   "outputs": [],
   "source": [
    "# initialization\n",
    "DevdanNet = DEVDAN(dataStreams.nInput,dataStreams.nOutput)"
   ]
  },
  {
   "cell_type": "code",
   "execution_count": null,
   "metadata": {
    "scrolled": true
   },
   "outputs": [],
   "source": [
    "DevdanNet3, performanceHistory3 = DEVDANmain(DevdanNet,dataStreams)"
   ]
  },
  {
   "cell_type": "code",
   "execution_count": null,
   "metadata": {
    "scrolled": true
   },
   "outputs": [],
   "source": [
    "plotPerformance(performanceHistory3[0],performanceHistory3[1],performanceHistory3[2],\n",
    "                performanceHistory3[3],performanceHistory3[4])"
   ]
  },
  {
   "cell_type": "code",
   "execution_count": null,
   "metadata": {},
   "outputs": [],
   "source": []
  },
  {
   "cell_type": "code",
   "execution_count": null,
   "metadata": {},
   "outputs": [],
   "source": [
    "# initialization\n",
    "DevdanNet = DEVDAN(dataStreams.nInput,dataStreams.nOutput)"
   ]
  },
  {
   "cell_type": "code",
   "execution_count": null,
   "metadata": {
    "scrolled": true
   },
   "outputs": [],
   "source": [
    "DevdanNet4, performanceHistory4 = DEVDANmain(DevdanNet,dataStreams)"
   ]
  },
  {
   "cell_type": "code",
   "execution_count": null,
   "metadata": {
    "scrolled": true
   },
   "outputs": [],
   "source": [
    "plotPerformance(performanceHistory4[0],performanceHistory4[1],performanceHistory4[2],\n",
    "                performanceHistory4[3],performanceHistory4[4])"
   ]
  },
  {
   "cell_type": "code",
   "execution_count": null,
   "metadata": {
    "scrolled": true
   },
   "outputs": [],
   "source": []
  },
  {
   "cell_type": "code",
   "execution_count": null,
   "metadata": {},
   "outputs": [],
   "source": [
    "# average performance\n",
    "print('Mean Accuracy: ', np.mean([performanceHistory0[1][1:]+performanceHistory1[1][1:]+\n",
    "                                 performanceHistory2[1][1:]+performanceHistory3[1][1:]+\n",
    "                                 performanceHistory4[1][1:]]))\n",
    "print('Std Accuracy: ', np.std([performanceHistory0[1][1:]+performanceHistory1[1][1:]+\n",
    "                                 performanceHistory2[1][1:]+performanceHistory3[1][1:]+\n",
    "                                 performanceHistory4[1][1:]]))\n",
    "\n",
    "print('Hidden Node mean', np.mean([performanceHistory0[3][1:]+performanceHistory1[3][1:]+\n",
    "                                 performanceHistory2[3][1:]+performanceHistory3[3][1:]+\n",
    "                                 performanceHistory4[3][1:]]))\n",
    "print('Hidden Node std: ', np.std([performanceHistory0[3][1:]+performanceHistory1[3][1:]+\n",
    "                                 performanceHistory2[3][1:]+performanceHistory3[3][1:]+\n",
    "                                 performanceHistory4[3][1:]]))\n",
    "\n",
    "print('Hidden Layer mean: ', np.mean([performanceHistory0[4][1:]+performanceHistory1[4][1:]+\n",
    "                                 performanceHistory2[4][1:]+performanceHistory3[4][1:]+\n",
    "                                 performanceHistory4[4][1:]]))\n",
    "print('Hidden Layer std: ', np.std([performanceHistory0[4][1:]+performanceHistory1[4][1:]+\n",
    "                                 performanceHistory2[4][1:]+performanceHistory3[4][1:]+\n",
    "                                 performanceHistory4[4][1:]]))"
   ]
  },
  {
   "cell_type": "code",
   "execution_count": null,
   "metadata": {},
   "outputs": [],
   "source": []
  },
  {
   "cell_type": "markdown",
   "metadata": {},
   "source": [
    "### 50% labeled data"
   ]
  },
  {
   "cell_type": "code",
   "execution_count": null,
   "metadata": {},
   "outputs": [],
   "source": [
    "print('50% Data')"
   ]
  },
  {
   "cell_type": "code",
   "execution_count": null,
   "metadata": {},
   "outputs": [],
   "source": [
    "# initialization\n",
    "DevdanNet = DEVDAN(dataStreams.nInput,dataStreams.nOutput)"
   ]
  },
  {
   "cell_type": "code",
   "execution_count": null,
   "metadata": {
    "scrolled": true
   },
   "outputs": [],
   "source": [
    "DevdanNet0, performanceHistory0 = DEVDANmain(DevdanNet,dataStreams,labeled = False, nLabeled = 0.5)"
   ]
  },
  {
   "cell_type": "code",
   "execution_count": null,
   "metadata": {
    "scrolled": false
   },
   "outputs": [],
   "source": [
    "plotPerformance(performanceHistory0[0],performanceHistory0[1],performanceHistory0[2],\n",
    "                performanceHistory0[3],performanceHistory0[4])"
   ]
  },
  {
   "cell_type": "code",
   "execution_count": null,
   "metadata": {},
   "outputs": [],
   "source": []
  },
  {
   "cell_type": "code",
   "execution_count": null,
   "metadata": {},
   "outputs": [],
   "source": [
    "# initialization\n",
    "DevdanNet = DEVDAN(dataStreams.nInput,dataStreams.nOutput)"
   ]
  },
  {
   "cell_type": "code",
   "execution_count": null,
   "metadata": {
    "scrolled": true
   },
   "outputs": [],
   "source": [
    "DevdanNet1, performanceHistory1 = DEVDANmain(DevdanNet,dataStreams,labeled = False, nLabeled = 0.5)"
   ]
  },
  {
   "cell_type": "code",
   "execution_count": null,
   "metadata": {},
   "outputs": [],
   "source": [
    "plotPerformance(performanceHistory1[0],performanceHistory1[1],performanceHistory1[2],\n",
    "                performanceHistory1[3],performanceHistory1[4])"
   ]
  },
  {
   "cell_type": "code",
   "execution_count": null,
   "metadata": {},
   "outputs": [],
   "source": []
  },
  {
   "cell_type": "code",
   "execution_count": null,
   "metadata": {},
   "outputs": [],
   "source": [
    "# initialization\n",
    "DevdanNet = DEVDAN(dataStreams.nInput,dataStreams.nOutput)"
   ]
  },
  {
   "cell_type": "code",
   "execution_count": null,
   "metadata": {
    "scrolled": true
   },
   "outputs": [],
   "source": [
    "DevdanNet2, performanceHistory2 = DEVDANmain(DevdanNet,dataStreams,labeled = False, nLabeled = 0.5)"
   ]
  },
  {
   "cell_type": "code",
   "execution_count": null,
   "metadata": {},
   "outputs": [],
   "source": [
    "plotPerformance(performanceHistory2[0],performanceHistory2[1],performanceHistory2[2],\n",
    "                performanceHistory2[3],performanceHistory2[4])"
   ]
  },
  {
   "cell_type": "code",
   "execution_count": null,
   "metadata": {},
   "outputs": [],
   "source": []
  },
  {
   "cell_type": "code",
   "execution_count": null,
   "metadata": {},
   "outputs": [],
   "source": [
    "# initialization\n",
    "DevdanNet = DEVDAN(dataStreams.nInput,dataStreams.nOutput)"
   ]
  },
  {
   "cell_type": "code",
   "execution_count": null,
   "metadata": {
    "scrolled": true
   },
   "outputs": [],
   "source": [
    "DevdanNet3, performanceHistory3 = DEVDANmain(DevdanNet,dataStreams,labeled = False, nLabeled = 0.5)"
   ]
  },
  {
   "cell_type": "code",
   "execution_count": null,
   "metadata": {},
   "outputs": [],
   "source": [
    "plotPerformance(performanceHistory3[0],performanceHistory3[1],performanceHistory3[2],\n",
    "                performanceHistory3[3],performanceHistory3[4])"
   ]
  },
  {
   "cell_type": "code",
   "execution_count": null,
   "metadata": {},
   "outputs": [],
   "source": []
  },
  {
   "cell_type": "code",
   "execution_count": null,
   "metadata": {},
   "outputs": [],
   "source": [
    "# initialization\n",
    "DevdanNet = DEVDAN(dataStreams.nInput,dataStreams.nOutput)"
   ]
  },
  {
   "cell_type": "code",
   "execution_count": null,
   "metadata": {
    "scrolled": true
   },
   "outputs": [],
   "source": [
    "DevdanNet4, performanceHistory4 = DEVDANmain(DevdanNet,dataStreams,labeled = False, nLabeled = 0.5)"
   ]
  },
  {
   "cell_type": "code",
   "execution_count": null,
   "metadata": {},
   "outputs": [],
   "source": [
    "plotPerformance(performanceHistory4[0],performanceHistory4[1],performanceHistory4[2],\n",
    "                performanceHistory4[3],performanceHistory4[4])"
   ]
  },
  {
   "cell_type": "code",
   "execution_count": null,
   "metadata": {},
   "outputs": [],
   "source": []
  },
  {
   "cell_type": "code",
   "execution_count": null,
   "metadata": {},
   "outputs": [],
   "source": [
    "# average performance\n",
    "print('Mean Accuracy: ', np.mean([performanceHistory0[1][1:]+performanceHistory1[1][1:]+\n",
    "                                 performanceHistory2[1][1:]+performanceHistory3[1][1:]+\n",
    "                                 performanceHistory4[1][1:]]))\n",
    "print('Std Accuracy: ', np.std([performanceHistory0[1][1:]+performanceHistory1[1][1:]+\n",
    "                                 performanceHistory2[1][1:]+performanceHistory3[1][1:]+\n",
    "                                 performanceHistory4[1][1:]]))\n",
    "\n",
    "print('Hidden Node mean', np.mean([performanceHistory0[3][1:]+performanceHistory1[3][1:]+\n",
    "                                 performanceHistory2[3][1:]+performanceHistory3[3][1:]+\n",
    "                                 performanceHistory4[3][1:]]))\n",
    "print('Hidden Node std: ', np.std([performanceHistory0[3][1:]+performanceHistory1[3][1:]+\n",
    "                                 performanceHistory2[3][1:]+performanceHistory3[3][1:]+\n",
    "                                 performanceHistory4[3][1:]]))\n",
    "\n",
    "print('Hidden Layer mean: ', np.mean([performanceHistory0[4][1:]+performanceHistory1[4][1:]+\n",
    "                                 performanceHistory2[4][1:]+performanceHistory3[4][1:]+\n",
    "                                 performanceHistory4[4][1:]]))\n",
    "print('Hidden Layer std: ', np.std([performanceHistory0[4][1:]+performanceHistory1[4][1:]+\n",
    "                                 performanceHistory2[4][1:]+performanceHistory3[4][1:]+\n",
    "                                 performanceHistory4[4][1:]]))"
   ]
  },
  {
   "cell_type": "code",
   "execution_count": null,
   "metadata": {},
   "outputs": [],
   "source": []
  },
  {
   "cell_type": "code",
   "execution_count": null,
   "metadata": {},
   "outputs": [],
   "source": []
  },
  {
   "cell_type": "markdown",
   "metadata": {},
   "source": [
    "### 25% Labeled Data"
   ]
  },
  {
   "cell_type": "code",
   "execution_count": null,
   "metadata": {},
   "outputs": [],
   "source": [
    "print('25% Data')"
   ]
  },
  {
   "cell_type": "code",
   "execution_count": null,
   "metadata": {},
   "outputs": [],
   "source": [
    "# initialization\n",
    "DevdanNet = DEVDAN(dataStreams.nInput,dataStreams.nOutput)"
   ]
  },
  {
   "cell_type": "code",
   "execution_count": null,
   "metadata": {
    "scrolled": true
   },
   "outputs": [],
   "source": [
    "DevdanNet0, performanceHistory0 = DEVDANmain(DevdanNet,dataStreams,labeled = False, nLabeled = 0.25)"
   ]
  },
  {
   "cell_type": "code",
   "execution_count": null,
   "metadata": {
    "scrolled": false
   },
   "outputs": [],
   "source": [
    "plotPerformance(performanceHistory0[0],performanceHistory0[1],performanceHistory0[2],\n",
    "                performanceHistory0[3],performanceHistory0[4])"
   ]
  },
  {
   "cell_type": "code",
   "execution_count": null,
   "metadata": {},
   "outputs": [],
   "source": []
  },
  {
   "cell_type": "code",
   "execution_count": null,
   "metadata": {},
   "outputs": [],
   "source": [
    "# initialization\n",
    "DevdanNet = DEVDAN(dataStreams.nInput,dataStreams.nOutput)"
   ]
  },
  {
   "cell_type": "code",
   "execution_count": null,
   "metadata": {
    "scrolled": true
   },
   "outputs": [],
   "source": [
    "DevdanNet1, performanceHistory1 = DEVDANmain(DevdanNet,dataStreams,labeled = False, nLabeled = 0.25)"
   ]
  },
  {
   "cell_type": "code",
   "execution_count": null,
   "metadata": {},
   "outputs": [],
   "source": [
    "plotPerformance(performanceHistory1[0],performanceHistory1[1],performanceHistory1[2],\n",
    "                performanceHistory1[3],performanceHistory1[4])"
   ]
  },
  {
   "cell_type": "code",
   "execution_count": null,
   "metadata": {},
   "outputs": [],
   "source": []
  },
  {
   "cell_type": "code",
   "execution_count": null,
   "metadata": {},
   "outputs": [],
   "source": [
    "# initialization\n",
    "DevdanNet = DEVDAN(dataStreams.nInput,dataStreams.nOutput)"
   ]
  },
  {
   "cell_type": "code",
   "execution_count": null,
   "metadata": {
    "scrolled": true
   },
   "outputs": [],
   "source": [
    "DevdanNet2, performanceHistory2 = DEVDANmain(DevdanNet,dataStreams,labeled = False, nLabeled = 0.25)"
   ]
  },
  {
   "cell_type": "code",
   "execution_count": null,
   "metadata": {},
   "outputs": [],
   "source": [
    "plotPerformance(performanceHistory2[0],performanceHistory2[1],performanceHistory2[2],\n",
    "                performanceHistory2[3],performanceHistory2[4])"
   ]
  },
  {
   "cell_type": "code",
   "execution_count": null,
   "metadata": {},
   "outputs": [],
   "source": []
  },
  {
   "cell_type": "code",
   "execution_count": null,
   "metadata": {},
   "outputs": [],
   "source": [
    "# initialization\n",
    "DevdanNet = DEVDAN(dataStreams.nInput,dataStreams.nOutput)"
   ]
  },
  {
   "cell_type": "code",
   "execution_count": null,
   "metadata": {
    "scrolled": true
   },
   "outputs": [],
   "source": [
    "DevdanNet3, performanceHistory3 = DEVDANmain(DevdanNet,dataStreams,labeled = False, nLabeled = 0.25)"
   ]
  },
  {
   "cell_type": "code",
   "execution_count": null,
   "metadata": {},
   "outputs": [],
   "source": [
    "plotPerformance(performanceHistory3[0],performanceHistory3[1],performanceHistory3[2],\n",
    "                performanceHistory3[3],performanceHistory3[4])"
   ]
  },
  {
   "cell_type": "code",
   "execution_count": null,
   "metadata": {},
   "outputs": [],
   "source": []
  },
  {
   "cell_type": "code",
   "execution_count": null,
   "metadata": {},
   "outputs": [],
   "source": [
    "# initialization\n",
    "DevdanNet = DEVDAN(dataStreams.nInput,dataStreams.nOutput)"
   ]
  },
  {
   "cell_type": "code",
   "execution_count": null,
   "metadata": {
    "scrolled": true
   },
   "outputs": [],
   "source": [
    "DevdanNet4, performanceHistory4 = DEVDANmain(DevdanNet,dataStreams,labeled = False, nLabeled = 0.25)"
   ]
  },
  {
   "cell_type": "code",
   "execution_count": null,
   "metadata": {},
   "outputs": [],
   "source": [
    "plotPerformance(performanceHistory4[0],performanceHistory4[1],performanceHistory4[2],\n",
    "                performanceHistory4[3],performanceHistory4[4])"
   ]
  },
  {
   "cell_type": "code",
   "execution_count": null,
   "metadata": {},
   "outputs": [],
   "source": []
  },
  {
   "cell_type": "code",
   "execution_count": null,
   "metadata": {},
   "outputs": [],
   "source": [
    "# average performance\n",
    "print('Mean Accuracy: ', np.mean([performanceHistory0[1][1:]+performanceHistory1[1][1:]+\n",
    "                                 performanceHistory2[1][1:]+performanceHistory3[1][1:]+\n",
    "                                 performanceHistory4[1][1:]]))\n",
    "print('Std Accuracy: ', np.std([performanceHistory0[1][1:]+performanceHistory1[1][1:]+\n",
    "                                 performanceHistory2[1][1:]+performanceHistory3[1][1:]+\n",
    "                                 performanceHistory4[1][1:]]))\n",
    "\n",
    "print('Hidden Node mean', np.mean([performanceHistory0[3][1:]+performanceHistory1[3][1:]+\n",
    "                                 performanceHistory2[3][1:]+performanceHistory3[3][1:]+\n",
    "                                 performanceHistory4[3][1:]]))\n",
    "print('Hidden Node std: ', np.std([performanceHistory0[3][1:]+performanceHistory1[3][1:]+\n",
    "                                 performanceHistory2[3][1:]+performanceHistory3[3][1:]+\n",
    "                                 performanceHistory4[3][1:]]))\n",
    "\n",
    "print('Hidden Layer mean: ', np.mean([performanceHistory0[4][1:]+performanceHistory1[4][1:]+\n",
    "                                 performanceHistory2[4][1:]+performanceHistory3[4][1:]+\n",
    "                                 performanceHistory4[4][1:]]))\n",
    "print('Hidden Layer std: ', np.std([performanceHistory0[4][1:]+performanceHistory1[4][1:]+\n",
    "                                 performanceHistory2[4][1:]+performanceHistory3[4][1:]+\n",
    "                                 performanceHistory4[4][1:]]))"
   ]
  },
  {
   "cell_type": "code",
   "execution_count": null,
   "metadata": {},
   "outputs": [],
   "source": []
  },
  {
   "cell_type": "markdown",
   "metadata": {},
   "source": [
    "### Infinite Delay"
   ]
  },
  {
   "cell_type": "code",
   "execution_count": null,
   "metadata": {},
   "outputs": [],
   "source": [
    "print('Infinite Delay')"
   ]
  },
  {
   "cell_type": "code",
   "execution_count": null,
   "metadata": {},
   "outputs": [],
   "source": [
    "# initialization\n",
    "DevdanNet = DEVDAN(dataStreams.nInput,dataStreams.nOutput)"
   ]
  },
  {
   "cell_type": "code",
   "execution_count": null,
   "metadata": {
    "scrolled": true
   },
   "outputs": [],
   "source": [
    "DevdanNet0, performanceHistory0 = DEVDANmainID(DevdanNet,dataStreams)"
   ]
  },
  {
   "cell_type": "code",
   "execution_count": null,
   "metadata": {
    "scrolled": false
   },
   "outputs": [],
   "source": [
    "plotPerformance(performanceHistory0[0],performanceHistory0[1],performanceHistory0[2],\n",
    "                performanceHistory0[3],performanceHistory0[4])"
   ]
  },
  {
   "cell_type": "code",
   "execution_count": null,
   "metadata": {},
   "outputs": [],
   "source": []
  },
  {
   "cell_type": "code",
   "execution_count": null,
   "metadata": {},
   "outputs": [],
   "source": [
    "# initialization\n",
    "DevdanNet = DEVDAN(dataStreams.nInput,dataStreams.nOutput)"
   ]
  },
  {
   "cell_type": "code",
   "execution_count": null,
   "metadata": {
    "scrolled": true
   },
   "outputs": [],
   "source": [
    "DevdanNet1, performanceHistory1 = DEVDANmainID(DevdanNet,dataStreams)"
   ]
  },
  {
   "cell_type": "code",
   "execution_count": null,
   "metadata": {},
   "outputs": [],
   "source": [
    "plotPerformance(performanceHistory1[0],performanceHistory1[1],performanceHistory1[2],\n",
    "                performanceHistory1[3],performanceHistory1[4])"
   ]
  },
  {
   "cell_type": "code",
   "execution_count": null,
   "metadata": {},
   "outputs": [],
   "source": []
  },
  {
   "cell_type": "code",
   "execution_count": null,
   "metadata": {},
   "outputs": [],
   "source": [
    "# initialization\n",
    "DevdanNet = DEVDAN(dataStreams.nInput,dataStreams.nOutput)"
   ]
  },
  {
   "cell_type": "code",
   "execution_count": null,
   "metadata": {
    "scrolled": true
   },
   "outputs": [],
   "source": [
    "DevdanNet2, performanceHistory2 = DEVDANmainID(DevdanNet,dataStreams)"
   ]
  },
  {
   "cell_type": "code",
   "execution_count": null,
   "metadata": {},
   "outputs": [],
   "source": [
    "plotPerformance(performanceHistory2[0],performanceHistory2[1],performanceHistory2[2],\n",
    "                performanceHistory2[3],performanceHistory2[4])"
   ]
  },
  {
   "cell_type": "code",
   "execution_count": null,
   "metadata": {},
   "outputs": [],
   "source": []
  },
  {
   "cell_type": "code",
   "execution_count": null,
   "metadata": {},
   "outputs": [],
   "source": [
    "# initialization\n",
    "DevdanNet = DEVDAN(dataStreams.nInput,dataStreams.nOutput)"
   ]
  },
  {
   "cell_type": "code",
   "execution_count": null,
   "metadata": {
    "scrolled": true
   },
   "outputs": [],
   "source": [
    "DevdanNet3, performanceHistory3 = DEVDANmainID(DevdanNet,dataStreams)"
   ]
  },
  {
   "cell_type": "code",
   "execution_count": null,
   "metadata": {},
   "outputs": [],
   "source": [
    "plotPerformance(performanceHistory3[0],performanceHistory3[1],performanceHistory3[2],\n",
    "                performanceHistory3[3],performanceHistory3[4])"
   ]
  },
  {
   "cell_type": "code",
   "execution_count": null,
   "metadata": {},
   "outputs": [],
   "source": []
  },
  {
   "cell_type": "code",
   "execution_count": null,
   "metadata": {},
   "outputs": [],
   "source": [
    "# initialization\n",
    "DevdanNet = DEVDAN(dataStreams.nInput,dataStreams.nOutput)"
   ]
  },
  {
   "cell_type": "code",
   "execution_count": null,
   "metadata": {
    "scrolled": true
   },
   "outputs": [],
   "source": [
    "DevdanNet4, performanceHistory4 = DEVDANmainID(DevdanNet,dataStreams)"
   ]
  },
  {
   "cell_type": "code",
   "execution_count": null,
   "metadata": {},
   "outputs": [],
   "source": [
    "plotPerformance(performanceHistory4[0],performanceHistory4[1],performanceHistory4[2],\n",
    "                performanceHistory4[3],performanceHistory4[4])"
   ]
  },
  {
   "cell_type": "code",
   "execution_count": null,
   "metadata": {},
   "outputs": [],
   "source": []
  },
  {
   "cell_type": "code",
   "execution_count": null,
   "metadata": {},
   "outputs": [],
   "source": [
    "# average performance\n",
    "print('Mean Accuracy: ', np.mean([performanceHistory0[1][1:]+performanceHistory1[1][1:]+\n",
    "                                 performanceHistory2[1][1:]+performanceHistory3[1][1:]+\n",
    "                                 performanceHistory4[1][1:]]))\n",
    "print('Std Accuracy: ', np.std([performanceHistory0[1][1:]+performanceHistory1[1][1:]+\n",
    "                                 performanceHistory2[1][1:]+performanceHistory3[1][1:]+\n",
    "                                 performanceHistory4[1][1:]]))\n",
    "\n",
    "print('Hidden Node mean', np.mean([performanceHistory0[3][1:]+performanceHistory1[3][1:]+\n",
    "                                 performanceHistory2[3][1:]+performanceHistory3[3][1:]+\n",
    "                                 performanceHistory4[3][1:]]))\n",
    "print('Hidden Node std: ', np.std([performanceHistory0[3][1:]+performanceHistory1[3][1:]+\n",
    "                                 performanceHistory2[3][1:]+performanceHistory3[3][1:]+\n",
    "                                 performanceHistory4[3][1:]]))\n",
    "\n",
    "print('Hidden Layer mean: ', np.mean([performanceHistory0[4][1:]+performanceHistory1[4][1:]+\n",
    "                                 performanceHistory2[4][1:]+performanceHistory3[4][1:]+\n",
    "                                 performanceHistory4[4][1:]]))\n",
    "print('Hidden Layer std: ', np.std([performanceHistory0[4][1:]+performanceHistory1[4][1:]+\n",
    "                                 performanceHistory2[4][1:]+performanceHistory3[4][1:]+\n",
    "                                 performanceHistory4[4][1:]]))"
   ]
  },
  {
   "cell_type": "code",
   "execution_count": null,
   "metadata": {},
   "outputs": [],
   "source": []
  }
 ],
 "metadata": {
  "kernelspec": {
   "display_name": "Python 3",
   "language": "python",
   "name": "python3"
  },
  "language_info": {
   "codemirror_mode": {
    "name": "ipython",
    "version": 3
   },
   "file_extension": ".py",
   "mimetype": "text/x-python",
   "name": "python",
   "nbconvert_exporter": "python",
   "pygments_lexer": "ipython3",
   "version": "3.7.6"
  }
 },
 "nbformat": 4,
 "nbformat_minor": 4
}
