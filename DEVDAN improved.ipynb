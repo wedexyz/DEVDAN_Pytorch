{
 "cells": [
  {
   "cell_type": "code",
   "execution_count": 1,
   "metadata": {},
   "outputs": [],
   "source": [
    "from DEVDANmainloop import DEVDANmain\n",
    "from DEVDANbasic import DEVDAN\n",
    "from utilsDEVDAN import dataLoader, plotPerformance\n",
    "import random\n",
    "import numpy as np\n",
    "import torch"
   ]
  },
  {
   "cell_type": "code",
   "execution_count": null,
   "metadata": {},
   "outputs": [],
   "source": []
  },
  {
   "cell_type": "code",
   "execution_count": 2,
   "metadata": {},
   "outputs": [],
   "source": [
    "# random seed control\n",
    "np.random.seed(0)\n",
    "torch.manual_seed(0)\n",
    "random.seed(0)"
   ]
  },
  {
   "cell_type": "code",
   "execution_count": null,
   "metadata": {},
   "outputs": [],
   "source": []
  },
  {
   "cell_type": "code",
   "execution_count": 3,
   "metadata": {},
   "outputs": [
    {
     "name": "stdout",
     "output_type": "stream",
     "text": [
      "Number of input:  3\n",
      "Number of output:  2\n",
      "Number of batch:  200\n"
     ]
    }
   ],
   "source": [
    "# load data\n",
    "dataStreams = dataLoader('../dataset/sea2.mat')"
   ]
  },
  {
   "cell_type": "code",
   "execution_count": 4,
   "metadata": {},
   "outputs": [
    {
     "name": "stderr",
     "output_type": "stream",
     "text": [
      "100% (200 of 200) |######################| Elapsed Time: 0:05:39 ETA:  00:00:00"
     ]
    },
    {
     "name": "stdout",
     "output_type": "stream",
     "text": [
      "\n",
      "\n",
      "=== Performance result ===\n",
      "Accuracy:  92.18793969849247 (+/-) 6.43419377420372\n",
      "Precision:  0.9219333908560554\n",
      "Recall:  0.9218793969849246\n",
      "F1 score:  0.9212634034492458\n",
      "Testing Time:  0.0015371181258005114 (+/-) 0.0010162013274141544\n",
      "Training Time:  1.69482985093965 (+/-) 0.2668863357108408\n",
      "\n",
      "\n",
      "=== Average network evolution ===\n",
      "Total hidden node:  23.325 (+/-) 10.484244131075926\n",
      "\n",
      "\n",
      "=== Final network structure ===\n",
      "\n",
      " 1 -th layer\n",
      "hiddenLayerBasicNet(\n",
      "  (linear): Linear(in_features=3, out_features=41, bias=True)\n",
      "  (activation): Sigmoid()\n",
      "  (activationh): ReLU(inplace)\n",
      ")\n",
      "No. of inputs : 3\n",
      "No. of nodes : 41\n",
      "No. of parameters : 167\n",
      "\n",
      " 2 -th layer\n",
      "outputLayerBasicNet(\n",
      "  (linearOutput): Linear(in_features=41, out_features=2, bias=True)\n",
      ")\n",
      "No. of inputs : 41\n",
      "No. of output : 2\n",
      "No. of parameters : 84\n"
     ]
    }
   ],
   "source": [
    "# initialization\n",
    "DevdanNet = DEVDAN(dataStreams.nInput,dataStreams.nOutput)\n",
    "\n",
    "# training\n",
    "DevdanNet, performanceHistory = DEVDANmain(DevdanNet,dataStreams)"
   ]
  },
  {
   "cell_type": "code",
   "execution_count": null,
   "metadata": {},
   "outputs": [],
   "source": []
  },
  {
   "cell_type": "code",
   "execution_count": 5,
   "metadata": {},
   "outputs": [
    {
     "name": "stderr",
     "output_type": "stream",
     "text": [
      "100% (200 of 200) |######################| Elapsed Time: 0:05:06 ETA:  00:00:00"
     ]
    },
    {
     "name": "stdout",
     "output_type": "stream",
     "text": [
      "\n",
      "\n",
      "=== Performance result ===\n",
      "Accuracy:  92.42010050251255 (+/-) 6.12010427785416\n",
      "Precision:  0.924033163702204\n",
      "Recall:  0.9242010050251256\n",
      "F1 score:  0.9237782357138506\n",
      "Testing Time:  0.0014567794512264692 (+/-) 0.0009527956310054872\n",
      "Training Time:  1.5313183758127031 (+/-) 0.23117496537218507\n",
      "\n",
      "\n",
      "=== Average network evolution ===\n",
      "Total hidden node:  20.59 (+/-) 11.242415220938959\n",
      "\n",
      "\n",
      "=== Final network structure ===\n",
      "\n",
      " 1 -th layer\n",
      "hiddenLayerBasicNet(\n",
      "  (linear): Linear(in_features=3, out_features=39, bias=True)\n",
      "  (activation): Sigmoid()\n",
      "  (activationh): ReLU(inplace)\n",
      ")\n",
      "No. of inputs : 3\n",
      "No. of nodes : 39\n",
      "No. of parameters : 159\n",
      "\n",
      " 2 -th layer\n",
      "outputLayerBasicNet(\n",
      "  (linearOutput): Linear(in_features=39, out_features=2, bias=True)\n",
      ")\n",
      "No. of inputs : 39\n",
      "No. of output : 2\n",
      "No. of parameters : 80\n"
     ]
    }
   ],
   "source": [
    "# initialization\n",
    "DevdanNet = DEVDAN(dataStreams.nInput,dataStreams.nOutput)\n",
    "\n",
    "# training\n",
    "DevdanNet, performanceHistory = DEVDANmain(DevdanNet,dataStreams)"
   ]
  },
  {
   "cell_type": "code",
   "execution_count": null,
   "metadata": {},
   "outputs": [],
   "source": []
  },
  {
   "cell_type": "code",
   "execution_count": 6,
   "metadata": {},
   "outputs": [
    {
     "name": "stderr",
     "output_type": "stream",
     "text": [
      "100% (200 of 200) |######################| Elapsed Time: 0:04:49 ETA:  00:00:00"
     ]
    },
    {
     "name": "stdout",
     "output_type": "stream",
     "text": [
      "\n",
      "\n",
      "=== Performance result ===\n",
      "Accuracy:  92.20804020100502 (+/-) 6.435980492738188\n",
      "Precision:  0.9219871179508131\n",
      "Recall:  0.9220804020100503\n",
      "F1 score:  0.9215590677460228\n",
      "Testing Time:  0.0012799938719476288 (+/-) 0.0006369278597055665\n",
      "Training Time:  1.4452087687487578 (+/-) 0.2297966946878295\n",
      "\n",
      "\n",
      "=== Average network evolution ===\n",
      "Total hidden node:  22.205 (+/-) 11.3812554228433\n",
      "\n",
      "\n",
      "=== Final network structure ===\n",
      "\n",
      " 1 -th layer\n",
      "hiddenLayerBasicNet(\n",
      "  (linear): Linear(in_features=3, out_features=41, bias=True)\n",
      "  (activation): Sigmoid()\n",
      "  (activationh): ReLU(inplace)\n",
      ")\n",
      "No. of inputs : 3\n",
      "No. of nodes : 41\n",
      "No. of parameters : 167\n",
      "\n",
      " 2 -th layer\n",
      "outputLayerBasicNet(\n",
      "  (linearOutput): Linear(in_features=41, out_features=2, bias=True)\n",
      ")\n",
      "No. of inputs : 41\n",
      "No. of output : 2\n",
      "No. of parameters : 84\n"
     ]
    }
   ],
   "source": [
    "# initialization\n",
    "DevdanNet = DEVDAN(dataStreams.nInput,dataStreams.nOutput)\n",
    "\n",
    "# training\n",
    "DevdanNet, performanceHistory = DEVDANmain(DevdanNet,dataStreams)"
   ]
  },
  {
   "cell_type": "code",
   "execution_count": null,
   "metadata": {},
   "outputs": [],
   "source": []
  },
  {
   "cell_type": "code",
   "execution_count": 7,
   "metadata": {},
   "outputs": [
    {
     "name": "stderr",
     "output_type": "stream",
     "text": [
      "100% (200 of 200) |######################| Elapsed Time: 0:04:48 ETA:  00:00:00"
     ]
    },
    {
     "name": "stdout",
     "output_type": "stream",
     "text": [
      "\n",
      "\n",
      "=== Performance result ===\n",
      "Accuracy:  92.1577889447236 (+/-) 6.648944990229191\n",
      "Precision:  0.9213737288020447\n",
      "Recall:  0.9215778894472362\n",
      "F1 score:  0.9211458855150215\n",
      "Testing Time:  0.0012220653457258215 (+/-) 0.00047198009491419216\n",
      "Training Time:  1.437773844704556 (+/-) 0.2255837518274954\n",
      "\n",
      "\n",
      "=== Average network evolution ===\n",
      "Total hidden node:  21.44 (+/-) 12.213779103946495\n",
      "\n",
      "\n",
      "=== Final network structure ===\n",
      "\n",
      " 1 -th layer\n",
      "hiddenLayerBasicNet(\n",
      "  (linear): Linear(in_features=3, out_features=43, bias=True)\n",
      "  (activation): Sigmoid()\n",
      "  (activationh): ReLU(inplace)\n",
      ")\n",
      "No. of inputs : 3\n",
      "No. of nodes : 43\n",
      "No. of parameters : 175\n",
      "\n",
      " 2 -th layer\n",
      "outputLayerBasicNet(\n",
      "  (linearOutput): Linear(in_features=43, out_features=2, bias=True)\n",
      ")\n",
      "No. of inputs : 43\n",
      "No. of output : 2\n",
      "No. of parameters : 88\n"
     ]
    }
   ],
   "source": [
    "# initialization\n",
    "DevdanNet = DEVDAN(dataStreams.nInput,dataStreams.nOutput)\n",
    "\n",
    "# training\n",
    "DevdanNet, performanceHistory = DEVDANmain(DevdanNet,dataStreams)"
   ]
  },
  {
   "cell_type": "code",
   "execution_count": null,
   "metadata": {},
   "outputs": [],
   "source": []
  },
  {
   "cell_type": "code",
   "execution_count": 8,
   "metadata": {},
   "outputs": [
    {
     "name": "stderr",
     "output_type": "stream",
     "text": [
      "100% (200 of 200) |######################| Elapsed Time: 0:05:05 ETA:  00:00:00"
     ]
    },
    {
     "name": "stdout",
     "output_type": "stream",
     "text": [
      "\n",
      "\n",
      "=== Performance result ===\n",
      "Accuracy:  92.43115577889446 (+/-) 6.187362235071925\n",
      "Precision:  0.9240971197787456\n",
      "Recall:  0.9243115577889447\n",
      "F1 score:  0.9239462133928008\n",
      "Testing Time:  0.0015856261229395268 (+/-) 0.001328147551172759\n",
      "Training Time:  1.5250954604029057 (+/-) 0.24871254573493304\n",
      "\n",
      "\n",
      "=== Average network evolution ===\n",
      "Total hidden node:  24.2 (+/-) 12.121881042148532\n",
      "\n",
      "\n",
      "=== Final network structure ===\n",
      "\n",
      " 1 -th layer\n",
      "hiddenLayerBasicNet(\n",
      "  (linear): Linear(in_features=3, out_features=43, bias=True)\n",
      "  (activation): Sigmoid()\n",
      "  (activationh): ReLU(inplace)\n",
      ")\n",
      "No. of inputs : 3\n",
      "No. of nodes : 43\n",
      "No. of parameters : 175\n",
      "\n",
      " 2 -th layer\n",
      "outputLayerBasicNet(\n",
      "  (linearOutput): Linear(in_features=43, out_features=2, bias=True)\n",
      ")\n",
      "No. of inputs : 43\n",
      "No. of output : 2\n",
      "No. of parameters : 88\n"
     ]
    }
   ],
   "source": [
    "# initialization\n",
    "DevdanNet = DEVDAN(dataStreams.nInput,dataStreams.nOutput)\n",
    "\n",
    "# training\n",
    "DevdanNet, performanceHistory = DEVDANmain(DevdanNet,dataStreams)"
   ]
  },
  {
   "cell_type": "code",
   "execution_count": 9,
   "metadata": {},
   "outputs": [
    {
     "data": {
      "image/png": "[encoded data removed]",
      "text/plain": [
       "<Figure size 576x864 with 3 Axes>"
      ]
     },
     "metadata": {
      "needs_background": "light"
     },
     "output_type": "display_data"
    }
   ],
   "source": [
    "plotPerformance(performanceHistory[0],performanceHistory[1],performanceHistory[2],\n",
    "                performanceHistory[3],performanceHistory[4])"
   ]
  },
  {
   "cell_type": "code",
   "execution_count": null,
   "metadata": {},
   "outputs": [],
   "source": []
  }
 ],
 "metadata": {
  "kernelspec": {
   "display_name": "Python 3",
   "language": "python",
   "name": "python3"
  },
  "language_info": {
   "codemirror_mode": {
    "name": "ipython",
    "version": 3
   },
   "file_extension": ".py",
   "mimetype": "text/x-python",
   "name": "python",
   "nbconvert_exporter": "python",
   "pygments_lexer": "ipython3",
   "version": "3.7.6"
  }
 },
 "nbformat": 4,
 "nbformat_minor": 4
}
