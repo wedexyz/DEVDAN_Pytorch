{
 "cells": [
  {
   "cell_type": "code",
   "execution_count": null,
   "metadata": {},
   "outputs": [],
   "source": [
    "from DEVDANmainloop import DEVDANmain, DEVDANmainID\n",
    "from DEVDANbasic import DEVDAN\n",
    "from utilsDEVDAN import dataLoader, plotPerformance\n",
    "import random\n",
    "import numpy as np\n",
    "import torch"
   ]
  },
  {
   "cell_type": "code",
   "execution_count": null,
   "metadata": {},
   "outputs": [],
   "source": []
  },
  {
   "cell_type": "code",
   "execution_count": null,
   "metadata": {},
   "outputs": [],
   "source": [
    "# random seed control\n",
    "np.random.seed(0)\n",
    "torch.manual_seed(0)\n",
    "random.seed(0)"
   ]
  },
  {
   "cell_type": "code",
   "execution_count": null,
   "metadata": {},
   "outputs": [],
   "source": []
  },
  {
   "cell_type": "code",
   "execution_count": null,
   "metadata": {},
   "outputs": [],
   "source": [
    "# load data\n",
    "dataStreams = dataLoader('../dataset/rfid2.mat')"
   ]
  },
  {
   "cell_type": "code",
   "execution_count": null,
   "metadata": {},
   "outputs": [],
   "source": []
  },
  {
   "cell_type": "code",
   "execution_count": null,
   "metadata": {},
   "outputs": [],
   "source": [
    "print('All Data')"
   ]
  },
  {
   "cell_type": "code",
   "execution_count": null,
   "metadata": {},
   "outputs": [],
   "source": [
    "allMetrics = []"
   ]
  },
  {
   "cell_type": "code",
   "execution_count": null,
   "metadata": {},
   "outputs": [],
   "source": [
    "# initialization\n",
    "DevdanNet = DEVDAN(dataStreams.nInput,dataStreams.nOutput)"
   ]
  },
  {
   "cell_type": "code",
   "execution_count": null,
   "metadata": {},
   "outputs": [],
   "source": [
    "DevdanNet0, performanceHistory0, allPerformance = DEVDANmain(DevdanNet,dataStreams)\n",
    "allMetrics.append(allPerformance)"
   ]
  },
  {
   "cell_type": "code",
   "execution_count": null,
   "metadata": {},
   "outputs": [],
   "source": [
    "plotPerformance(performanceHistory0[0],performanceHistory0[1],performanceHistory0[2],\n",
    "                performanceHistory0[3],performanceHistory0[4])"
   ]
  },
  {
   "cell_type": "code",
   "execution_count": null,
   "metadata": {},
   "outputs": [],
   "source": []
  },
  {
   "cell_type": "code",
   "execution_count": null,
   "metadata": {},
   "outputs": [],
   "source": [
    "# initialization\n",
    "DevdanNet = DEVDAN(dataStreams.nInput,dataStreams.nOutput)"
   ]
  },
  {
   "cell_type": "code",
   "execution_count": null,
   "metadata": {},
   "outputs": [],
   "source": [
    "DevdanNet1, performanceHistory1, allPerformance = DEVDANmain(DevdanNet,dataStreams)\n",
    "allMetrics.append(allPerformance)"
   ]
  },
  {
   "cell_type": "code",
   "execution_count": null,
   "metadata": {},
   "outputs": [],
   "source": [
    "plotPerformance(performanceHistory1[0],performanceHistory1[1],performanceHistory1[2],\n",
    "                performanceHistory1[3],performanceHistory1[4])"
   ]
  },
  {
   "cell_type": "code",
   "execution_count": null,
   "metadata": {},
   "outputs": [],
   "source": []
  },
  {
   "cell_type": "code",
   "execution_count": null,
   "metadata": {},
   "outputs": [],
   "source": [
    "# initialization\n",
    "DevdanNet = DEVDAN(dataStreams.nInput,dataStreams.nOutput)"
   ]
  },
  {
   "cell_type": "code",
   "execution_count": null,
   "metadata": {},
   "outputs": [],
   "source": [
    "DevdanNet2, performanceHistory2, allPerformance = DEVDANmain(DevdanNet,dataStreams)\n",
    "allMetrics.append(allPerformance)"
   ]
  },
  {
   "cell_type": "code",
   "execution_count": null,
   "metadata": {},
   "outputs": [],
   "source": [
    "plotPerformance(performanceHistory2[0],performanceHistory2[1],performanceHistory2[2],\n",
    "                performanceHistory2[3],performanceHistory2[4])"
   ]
  },
  {
   "cell_type": "code",
   "execution_count": null,
   "metadata": {},
   "outputs": [],
   "source": []
  },
  {
   "cell_type": "code",
   "execution_count": null,
   "metadata": {},
   "outputs": [],
   "source": [
    "# initialization\n",
    "DevdanNet = DEVDAN(dataStreams.nInput,dataStreams.nOutput)"
   ]
  },
  {
   "cell_type": "code",
   "execution_count": null,
   "metadata": {},
   "outputs": [],
   "source": [
    "DevdanNet3, performanceHistory3, allPerformance = DEVDANmain(DevdanNet,dataStreams)\n",
    "allMetrics.append(allPerformance)"
   ]
  },
  {
   "cell_type": "code",
   "execution_count": null,
   "metadata": {},
   "outputs": [],
   "source": [
    "plotPerformance(performanceHistory3[0],performanceHistory3[1],performanceHistory3[2],\n",
    "                performanceHistory3[3],performanceHistory3[4])"
   ]
  },
  {
   "cell_type": "code",
   "execution_count": null,
   "metadata": {},
   "outputs": [],
   "source": []
  },
  {
   "cell_type": "code",
   "execution_count": null,
   "metadata": {},
   "outputs": [],
   "source": [
    "# initialization\n",
    "DevdanNet = DEVDAN(dataStreams.nInput,dataStreams.nOutput)"
   ]
  },
  {
   "cell_type": "code",
   "execution_count": null,
   "metadata": {},
   "outputs": [],
   "source": [
    "DevdanNet4, performanceHistory4, allPerformance = DEVDANmain(DevdanNet,dataStreams)\n",
    "allMetrics.append(allPerformance)"
   ]
  },
  {
   "cell_type": "code",
   "execution_count": null,
   "metadata": {},
   "outputs": [],
   "source": [
    "plotPerformance(performanceHistory4[0],performanceHistory4[1],performanceHistory4[2],\n",
    "                performanceHistory4[3],performanceHistory4[4])"
   ]
  },
  {
   "cell_type": "code",
   "execution_count": null,
   "metadata": {
    "scrolled": true
   },
   "outputs": [],
   "source": []
  },
  {
   "cell_type": "code",
   "execution_count": null,
   "metadata": {},
   "outputs": [],
   "source": [
    "# all results\n",
    "\n",
    "# 0: accuracy\n",
    "# 1: f1_score\n",
    "# 2: precision_score\n",
    "# 3: recall_score\n",
    "# 4: training_time\n",
    "# 5: testingTime\n",
    "# 6: nHiddenLayer\n",
    "# 7: nHiddenNode\n",
    "\n",
    "meanResults = np.round_(np.mean(allMetrics,0), decimals=2)\n",
    "stdResults  = np.round_(np.std(allMetrics,0), decimals=2)\n",
    "\n",
    "print('\\n')\n",
    "print('========== Performance occupancy ==========')\n",
    "print('Preq Accuracy: ', meanResults[0].item(), '(+/-)',stdResults[0].item())\n",
    "print('F1 score: ', meanResults[1].item(), '(+/-)',stdResults[1].item())\n",
    "print('Precision: ', meanResults[2].item(), '(+/-)',stdResults[2].item())\n",
    "print('Recall: ', meanResults[3].item(), '(+/-)',stdResults[3].item())\n",
    "print('Training time: ', meanResults[4].item(), '(+/-)',stdResults[4].item())\n",
    "print('Testing time: ', meanResults[5].item(), '(+/-)',stdResults[5].item())\n",
    "\n",
    "print('\\n')\n",
    "print('========== Network ==========')\n",
    "print('Number of hidden layers: ', meanResults[6].item(), '(+/-)',stdResults[6].item())\n",
    "print('Number of features: ', meanResults[7].item(), '(+/-)',stdResults[7].item())"
   ]
  },
  {
   "cell_type": "markdown",
   "metadata": {},
   "source": [
    "### 50% labeled data"
   ]
  },
  {
   "cell_type": "code",
   "execution_count": null,
   "metadata": {},
   "outputs": [],
   "source": [
    "print('50% Data')"
   ]
  },
  {
   "cell_type": "code",
   "execution_count": null,
   "metadata": {},
   "outputs": [],
   "source": [
    "allMetrics = []"
   ]
  },
  {
   "cell_type": "code",
   "execution_count": null,
   "metadata": {},
   "outputs": [],
   "source": [
    "# initialization\n",
    "DevdanNet = DEVDAN(dataStreams.nInput,dataStreams.nOutput)"
   ]
  },
  {
   "cell_type": "code",
   "execution_count": null,
   "metadata": {
    "scrolled": true
   },
   "outputs": [],
   "source": [
    "DevdanNet0, performanceHistory0, allPerformance = DEVDANmain(DevdanNet,dataStreams,labeled = False, nLabeled = 0.5)\n",
    "allMetrics.append(allPerformance)"
   ]
  },
  {
   "cell_type": "code",
   "execution_count": null,
   "metadata": {
    "scrolled": false
   },
   "outputs": [],
   "source": [
    "plotPerformance(performanceHistory0[0],performanceHistory0[1],performanceHistory0[2],\n",
    "                performanceHistory0[3],performanceHistory0[4])"
   ]
  },
  {
   "cell_type": "code",
   "execution_count": null,
   "metadata": {},
   "outputs": [],
   "source": []
  },
  {
   "cell_type": "code",
   "execution_count": null,
   "metadata": {},
   "outputs": [],
   "source": [
    "# initialization\n",
    "DevdanNet = DEVDAN(dataStreams.nInput,dataStreams.nOutput)"
   ]
  },
  {
   "cell_type": "code",
   "execution_count": null,
   "metadata": {
    "scrolled": true
   },
   "outputs": [],
   "source": [
    "DevdanNet1, performanceHistory1, allPerformance = DEVDANmain(DevdanNet,dataStreams,labeled = False, nLabeled = 0.5)\n",
    "allMetrics.append(allPerformance)"
   ]
  },
  {
   "cell_type": "code",
   "execution_count": null,
   "metadata": {},
   "outputs": [],
   "source": [
    "plotPerformance(performanceHistory1[0],performanceHistory1[1],performanceHistory1[2],\n",
    "                performanceHistory1[3],performanceHistory1[4])"
   ]
  },
  {
   "cell_type": "code",
   "execution_count": null,
   "metadata": {},
   "outputs": [],
   "source": []
  },
  {
   "cell_type": "code",
   "execution_count": null,
   "metadata": {},
   "outputs": [],
   "source": [
    "# initialization\n",
    "DevdanNet = DEVDAN(dataStreams.nInput,dataStreams.nOutput)"
   ]
  },
  {
   "cell_type": "code",
   "execution_count": null,
   "metadata": {
    "scrolled": true
   },
   "outputs": [],
   "source": [
    "DevdanNet2, performanceHistory2, allPerformance = DEVDANmain(DevdanNet,dataStreams,labeled = False, nLabeled = 0.5)\n",
    "allMetrics.append(allPerformance)"
   ]
  },
  {
   "cell_type": "code",
   "execution_count": null,
   "metadata": {},
   "outputs": [],
   "source": [
    "plotPerformance(performanceHistory2[0],performanceHistory2[1],performanceHistory2[2],\n",
    "                performanceHistory2[3],performanceHistory2[4])"
   ]
  },
  {
   "cell_type": "code",
   "execution_count": null,
   "metadata": {},
   "outputs": [],
   "source": []
  },
  {
   "cell_type": "code",
   "execution_count": null,
   "metadata": {},
   "outputs": [],
   "source": [
    "# initialization\n",
    "DevdanNet = DEVDAN(dataStreams.nInput,dataStreams.nOutput)"
   ]
  },
  {
   "cell_type": "code",
   "execution_count": null,
   "metadata": {
    "scrolled": true
   },
   "outputs": [],
   "source": [
    "DevdanNet3, performanceHistory3, allPerformance = DEVDANmain(DevdanNet,dataStreams,labeled = False, nLabeled = 0.5)\n",
    "allMetrics.append(allPerformance)"
   ]
  },
  {
   "cell_type": "code",
   "execution_count": null,
   "metadata": {},
   "outputs": [],
   "source": [
    "plotPerformance(performanceHistory3[0],performanceHistory3[1],performanceHistory3[2],\n",
    "                performanceHistory3[3],performanceHistory3[4])"
   ]
  },
  {
   "cell_type": "code",
   "execution_count": null,
   "metadata": {},
   "outputs": [],
   "source": []
  },
  {
   "cell_type": "code",
   "execution_count": null,
   "metadata": {},
   "outputs": [],
   "source": [
    "# initialization\n",
    "DevdanNet = DEVDAN(dataStreams.nInput,dataStreams.nOutput)"
   ]
  },
  {
   "cell_type": "code",
   "execution_count": null,
   "metadata": {
    "scrolled": true
   },
   "outputs": [],
   "source": [
    "DevdanNet4, performanceHistory4, allPerformance = DEVDANmain(DevdanNet,dataStreams,labeled = False, nLabeled = 0.5)\n",
    "allMetrics.append(allPerformance)"
   ]
  },
  {
   "cell_type": "code",
   "execution_count": null,
   "metadata": {},
   "outputs": [],
   "source": [
    "plotPerformance(performanceHistory4[0],performanceHistory4[1],performanceHistory4[2],\n",
    "                performanceHistory4[3],performanceHistory4[4])"
   ]
  },
  {
   "cell_type": "code",
   "execution_count": null,
   "metadata": {},
   "outputs": [],
   "source": []
  },
  {
   "cell_type": "code",
   "execution_count": null,
   "metadata": {},
   "outputs": [],
   "source": [
    "# all results\n",
    "\n",
    "# 0: accuracy\n",
    "# 1: f1_score\n",
    "# 2: precision_score\n",
    "# 3: recall_score\n",
    "# 4: training_time\n",
    "# 5: testingTime\n",
    "# 6: nHiddenLayer\n",
    "# 7: nHiddenNode\n",
    "\n",
    "meanResults = np.round_(np.mean(allMetrics,0), decimals=2)\n",
    "stdResults  = np.round_(np.std(allMetrics,0), decimals=2)\n",
    "\n",
    "print('\\n')\n",
    "print('========== Performance occupancy ==========')\n",
    "print('Preq Accuracy: ', meanResults[0].item(), '(+/-)',stdResults[0].item())\n",
    "print('F1 score: ', meanResults[1].item(), '(+/-)',stdResults[1].item())\n",
    "print('Precision: ', meanResults[2].item(), '(+/-)',stdResults[2].item())\n",
    "print('Recall: ', meanResults[3].item(), '(+/-)',stdResults[3].item())\n",
    "print('Training time: ', meanResults[4].item(), '(+/-)',stdResults[4].item())\n",
    "print('Testing time: ', meanResults[5].item(), '(+/-)',stdResults[5].item())\n",
    "\n",
    "print('\\n')\n",
    "print('========== Network ==========')\n",
    "print('Number of hidden layers: ', meanResults[6].item(), '(+/-)',stdResults[6].item())\n",
    "print('Number of features: ', meanResults[7].item(), '(+/-)',stdResults[7].item())"
   ]
  },
  {
   "cell_type": "code",
   "execution_count": null,
   "metadata": {},
   "outputs": [],
   "source": []
  },
  {
   "cell_type": "markdown",
   "metadata": {},
   "source": [
    "### 25% Labeled Data"
   ]
  },
  {
   "cell_type": "code",
   "execution_count": null,
   "metadata": {},
   "outputs": [],
   "source": [
    "print('25% Data')"
   ]
  },
  {
   "cell_type": "code",
   "execution_count": null,
   "metadata": {},
   "outputs": [],
   "source": [
    "allMetrics = []"
   ]
  },
  {
   "cell_type": "code",
   "execution_count": null,
   "metadata": {},
   "outputs": [],
   "source": [
    "# initialization\n",
    "DevdanNet = DEVDAN(dataStreams.nInput,dataStreams.nOutput)"
   ]
  },
  {
   "cell_type": "code",
   "execution_count": null,
   "metadata": {
    "scrolled": true
   },
   "outputs": [],
   "source": [
    "DevdanNet0, performanceHistory0, allPerformance = DEVDANmain(DevdanNet,dataStreams,labeled = False, nLabeled = 0.25)\n",
    "allMetrics.append(allPerformance)"
   ]
  },
  {
   "cell_type": "code",
   "execution_count": null,
   "metadata": {
    "scrolled": false
   },
   "outputs": [],
   "source": [
    "plotPerformance(performanceHistory0[0],performanceHistory0[1],performanceHistory0[2],\n",
    "                performanceHistory0[3],performanceHistory0[4])"
   ]
  },
  {
   "cell_type": "code",
   "execution_count": null,
   "metadata": {},
   "outputs": [],
   "source": []
  },
  {
   "cell_type": "code",
   "execution_count": null,
   "metadata": {},
   "outputs": [],
   "source": [
    "# initialization\n",
    "DevdanNet = DEVDAN(dataStreams.nInput,dataStreams.nOutput)"
   ]
  },
  {
   "cell_type": "code",
   "execution_count": null,
   "metadata": {
    "scrolled": true
   },
   "outputs": [],
   "source": [
    "DevdanNet1, performanceHistory1, allPerformance = DEVDANmain(DevdanNet,dataStreams,labeled = False, nLabeled = 0.25)\n",
    "allMetrics.append(allPerformance)"
   ]
  },
  {
   "cell_type": "code",
   "execution_count": null,
   "metadata": {},
   "outputs": [],
   "source": [
    "plotPerformance(performanceHistory1[0],performanceHistory1[1],performanceHistory1[2],\n",
    "                performanceHistory1[3],performanceHistory1[4])"
   ]
  },
  {
   "cell_type": "code",
   "execution_count": null,
   "metadata": {},
   "outputs": [],
   "source": []
  },
  {
   "cell_type": "code",
   "execution_count": null,
   "metadata": {},
   "outputs": [],
   "source": [
    "# initialization\n",
    "DevdanNet = DEVDAN(dataStreams.nInput,dataStreams.nOutput)"
   ]
  },
  {
   "cell_type": "code",
   "execution_count": null,
   "metadata": {
    "scrolled": true
   },
   "outputs": [],
   "source": [
    "DevdanNet2, performanceHistory2, allPerformance = DEVDANmain(DevdanNet,dataStreams,labeled = False, nLabeled = 0.25)\n",
    "allMetrics.append(allPerformance)"
   ]
  },
  {
   "cell_type": "code",
   "execution_count": null,
   "metadata": {},
   "outputs": [],
   "source": [
    "plotPerformance(performanceHistory2[0],performanceHistory2[1],performanceHistory2[2],\n",
    "                performanceHistory2[3],performanceHistory2[4])"
   ]
  },
  {
   "cell_type": "code",
   "execution_count": null,
   "metadata": {},
   "outputs": [],
   "source": []
  },
  {
   "cell_type": "code",
   "execution_count": null,
   "metadata": {},
   "outputs": [],
   "source": [
    "# initialization\n",
    "DevdanNet = DEVDAN(dataStreams.nInput,dataStreams.nOutput)"
   ]
  },
  {
   "cell_type": "code",
   "execution_count": null,
   "metadata": {
    "scrolled": true
   },
   "outputs": [],
   "source": [
    "DevdanNet3, performanceHistory3, allPerformance = DEVDANmain(DevdanNet,dataStreams,labeled = False, nLabeled = 0.25)\n",
    "allMetrics.append(allPerformance)"
   ]
  },
  {
   "cell_type": "code",
   "execution_count": null,
   "metadata": {},
   "outputs": [],
   "source": [
    "plotPerformance(performanceHistory3[0],performanceHistory3[1],performanceHistory3[2],\n",
    "                performanceHistory3[3],performanceHistory3[4])"
   ]
  },
  {
   "cell_type": "code",
   "execution_count": null,
   "metadata": {},
   "outputs": [],
   "source": []
  },
  {
   "cell_type": "code",
   "execution_count": null,
   "metadata": {},
   "outputs": [],
   "source": [
    "# initialization\n",
    "DevdanNet = DEVDAN(dataStreams.nInput,dataStreams.nOutput)"
   ]
  },
  {
   "cell_type": "code",
   "execution_count": null,
   "metadata": {
    "scrolled": true
   },
   "outputs": [],
   "source": [
    "DevdanNet4, performanceHistory4, allPerformance = DEVDANmain(DevdanNet,dataStreams,labeled = False, nLabeled = 0.25)\n",
    "allMetrics.append(allPerformance)"
   ]
  },
  {
   "cell_type": "code",
   "execution_count": null,
   "metadata": {},
   "outputs": [],
   "source": [
    "plotPerformance(performanceHistory4[0],performanceHistory4[1],performanceHistory4[2],\n",
    "                performanceHistory4[3],performanceHistory4[4])"
   ]
  },
  {
   "cell_type": "code",
   "execution_count": null,
   "metadata": {},
   "outputs": [],
   "source": []
  },
  {
   "cell_type": "code",
   "execution_count": null,
   "metadata": {},
   "outputs": [],
   "source": [
    "# all results\n",
    "\n",
    "# 0: accuracy\n",
    "# 1: f1_score\n",
    "# 2: precision_score\n",
    "# 3: recall_score\n",
    "# 4: training_time\n",
    "# 5: testingTime\n",
    "# 6: nHiddenLayer\n",
    "# 7: nHiddenNode\n",
    "\n",
    "meanResults = np.round_(np.mean(allMetrics,0), decimals=2)\n",
    "stdResults  = np.round_(np.std(allMetrics,0), decimals=2)\n",
    "\n",
    "print('\\n')\n",
    "print('========== Performance occupancy ==========')\n",
    "print('Preq Accuracy: ', meanResults[0].item(), '(+/-)',stdResults[0].item())\n",
    "print('F1 score: ', meanResults[1].item(), '(+/-)',stdResults[1].item())\n",
    "print('Precision: ', meanResults[2].item(), '(+/-)',stdResults[2].item())\n",
    "print('Recall: ', meanResults[3].item(), '(+/-)',stdResults[3].item())\n",
    "print('Training time: ', meanResults[4].item(), '(+/-)',stdResults[4].item())\n",
    "print('Testing time: ', meanResults[5].item(), '(+/-)',stdResults[5].item())\n",
    "\n",
    "print('\\n')\n",
    "print('========== Network ==========')\n",
    "print('Number of hidden layers: ', meanResults[6].item(), '(+/-)',stdResults[6].item())\n",
    "print('Number of features: ', meanResults[7].item(), '(+/-)',stdResults[7].item())"
   ]
  },
  {
   "cell_type": "markdown",
   "metadata": {},
   "source": [
    "### Infinite Delay"
   ]
  },
  {
   "cell_type": "code",
   "execution_count": null,
   "metadata": {},
   "outputs": [],
   "source": [
    "print('Infinite Delay')"
   ]
  },
  {
   "cell_type": "code",
   "execution_count": null,
   "metadata": {},
   "outputs": [],
   "source": [
    "allMetrics = []"
   ]
  },
  {
   "cell_type": "code",
   "execution_count": null,
   "metadata": {},
   "outputs": [],
   "source": [
    "# initialization\n",
    "DevdanNet = DEVDAN(dataStreams.nInput,dataStreams.nOutput)"
   ]
  },
  {
   "cell_type": "code",
   "execution_count": null,
   "metadata": {
    "scrolled": true
   },
   "outputs": [],
   "source": [
    "DevdanNet0, performanceHistory0, allPerformance = DEVDANmainID(DevdanNet,dataStreams)\n",
    "allMetrics.append(allPerformance)"
   ]
  },
  {
   "cell_type": "code",
   "execution_count": null,
   "metadata": {
    "scrolled": false
   },
   "outputs": [],
   "source": [
    "plotPerformance(performanceHistory0[0],performanceHistory0[1],performanceHistory0[2],\n",
    "                performanceHistory0[3],performanceHistory0[4])"
   ]
  },
  {
   "cell_type": "code",
   "execution_count": null,
   "metadata": {},
   "outputs": [],
   "source": []
  },
  {
   "cell_type": "code",
   "execution_count": null,
   "metadata": {},
   "outputs": [],
   "source": [
    "# initialization\n",
    "DevdanNet = DEVDAN(dataStreams.nInput,dataStreams.nOutput)"
   ]
  },
  {
   "cell_type": "code",
   "execution_count": null,
   "metadata": {
    "scrolled": true
   },
   "outputs": [],
   "source": [
    "DevdanNet1, performanceHistory1, allPerformance = DEVDANmainID(DevdanNet,dataStreams)\n",
    "allMetrics.append(allPerformance)"
   ]
  },
  {
   "cell_type": "code",
   "execution_count": null,
   "metadata": {},
   "outputs": [],
   "source": [
    "plotPerformance(performanceHistory1[0],performanceHistory1[1],performanceHistory1[2],\n",
    "                performanceHistory1[3],performanceHistory1[4])"
   ]
  },
  {
   "cell_type": "code",
   "execution_count": null,
   "metadata": {},
   "outputs": [],
   "source": []
  },
  {
   "cell_type": "code",
   "execution_count": null,
   "metadata": {},
   "outputs": [],
   "source": [
    "# initialization\n",
    "DevdanNet = DEVDAN(dataStreams.nInput,dataStreams.nOutput)"
   ]
  },
  {
   "cell_type": "code",
   "execution_count": null,
   "metadata": {
    "scrolled": true
   },
   "outputs": [],
   "source": [
    "DevdanNet2, performanceHistory2, allPerformance = DEVDANmainID(DevdanNet,dataStreams)\n",
    "allMetrics.append(allPerformance)"
   ]
  },
  {
   "cell_type": "code",
   "execution_count": null,
   "metadata": {},
   "outputs": [],
   "source": [
    "plotPerformance(performanceHistory2[0],performanceHistory2[1],performanceHistory2[2],\n",
    "                performanceHistory2[3],performanceHistory2[4])"
   ]
  },
  {
   "cell_type": "code",
   "execution_count": null,
   "metadata": {},
   "outputs": [],
   "source": []
  },
  {
   "cell_type": "code",
   "execution_count": null,
   "metadata": {},
   "outputs": [],
   "source": [
    "# initialization\n",
    "DevdanNet = DEVDAN(dataStreams.nInput,dataStreams.nOutput)"
   ]
  },
  {
   "cell_type": "code",
   "execution_count": null,
   "metadata": {
    "scrolled": true
   },
   "outputs": [],
   "source": [
    "DevdanNet3, performanceHistory3, allPerformance = DEVDANmainID(DevdanNet,dataStreams)\n",
    "allMetrics.append(allPerformance)"
   ]
  },
  {
   "cell_type": "code",
   "execution_count": null,
   "metadata": {},
   "outputs": [],
   "source": [
    "plotPerformance(performanceHistory3[0],performanceHistory3[1],performanceHistory3[2],\n",
    "                performanceHistory3[3],performanceHistory3[4])"
   ]
  },
  {
   "cell_type": "code",
   "execution_count": null,
   "metadata": {},
   "outputs": [],
   "source": []
  },
  {
   "cell_type": "code",
   "execution_count": null,
   "metadata": {},
   "outputs": [],
   "source": [
    "# initialization\n",
    "DevdanNet = DEVDAN(dataStreams.nInput,dataStreams.nOutput)"
   ]
  },
  {
   "cell_type": "code",
   "execution_count": null,
   "metadata": {
    "scrolled": true
   },
   "outputs": [],
   "source": [
    "DevdanNet4, performanceHistory4, allPerformance = DEVDANmainID(DevdanNet,dataStreams)\n",
    "allMetrics.append(allPerformance)"
   ]
  },
  {
   "cell_type": "code",
   "execution_count": null,
   "metadata": {},
   "outputs": [],
   "source": [
    "plotPerformance(performanceHistory4[0],performanceHistory4[1],performanceHistory4[2],\n",
    "                performanceHistory4[3],performanceHistory4[4])"
   ]
  },
  {
   "cell_type": "code",
   "execution_count": null,
   "metadata": {},
   "outputs": [],
   "source": []
  },
  {
   "cell_type": "code",
   "execution_count": null,
   "metadata": {},
   "outputs": [],
   "source": [
    "# all results\n",
    "\n",
    "# 0: accuracy\n",
    "# 1: f1_score\n",
    "# 2: precision_score\n",
    "# 3: recall_score\n",
    "# 4: training_time\n",
    "# 5: testingTime\n",
    "# 6: nHiddenLayer\n",
    "# 7: nHiddenNode\n",
    "\n",
    "meanResults = np.round_(np.mean(allMetrics,0), decimals=2)\n",
    "stdResults  = np.round_(np.std(allMetrics,0), decimals=2)\n",
    "\n",
    "print('\\n')\n",
    "print('========== Performance occupancy ==========')\n",
    "print('Preq Accuracy: ', meanResults[0].item(), '(+/-)',stdResults[0].item())\n",
    "print('F1 score: ', meanResults[1].item(), '(+/-)',stdResults[1].item())\n",
    "print('Precision: ', meanResults[2].item(), '(+/-)',stdResults[2].item())\n",
    "print('Recall: ', meanResults[3].item(), '(+/-)',stdResults[3].item())\n",
    "print('Training time: ', meanResults[4].item(), '(+/-)',stdResults[4].item())\n",
    "print('Testing time: ', meanResults[5].item(), '(+/-)',stdResults[5].item())\n",
    "\n",
    "print('\\n')\n",
    "print('========== Network ==========')\n",
    "print('Number of hidden layers: ', meanResults[6].item(), '(+/-)',stdResults[6].item())\n",
    "print('Number of features: ', meanResults[7].item(), '(+/-)',stdResults[7].item())"
   ]
  }
 ],
 "metadata": {
  "kernelspec": {
   "display_name": "Python 3",
   "language": "python",
   "name": "python3"
  },
  "language_info": {
   "codemirror_mode": {
    "name": "ipython",
    "version": 3
   },
   "file_extension": ".py",
   "mimetype": "text/x-python",
   "name": "python",
   "nbconvert_exporter": "python",
   "pygments_lexer": "ipython3",
   "version": "3.7.6"
  }
 },
 "nbformat": 4,
 "nbformat_minor": 4
}
